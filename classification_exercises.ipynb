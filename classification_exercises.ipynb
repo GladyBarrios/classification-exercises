{
 "cells": [
  {
   "cell_type": "code",
   "execution_count": null,
   "id": "8bbf48d5",
   "metadata": {},
   "outputs": [],
   "source": []
  },
  {
   "cell_type": "code",
   "execution_count": 4,
   "id": "225bbb04",
   "metadata": {},
   "outputs": [],
   "source": [
    "import pandas as pd\n",
    "import numpy as np\n",
    "\n",
    "from pydataset import data\n",
    "import os\n",
    "\n",
    "import matplotlib.pyplot as plt\n",
    "import seaborn as sns\n",
    "\n",
    "import warnings\n",
    "warnings.filterwarnings(\"ignore\")\n",
    "\n",
    "import acquire"
   ]
  },
  {
   "cell_type": "markdown",
   "id": "70a4975f",
   "metadata": {},
   "source": [
    "### In a jupyter notebook, classification_exercises.ipynb, use a python module (pydata or seaborn datasets) containing datasets as a source from the iris data. Create a pandas dataframe, df_iris, from this data."
   ]
  },
  {
   "cell_type": "code",
   "execution_count": null,
   "id": "7b9ddff3",
   "metadata": {},
   "outputs": [],
   "source": [
    "df_iris = data('iris')\n",
    "df_iris"
   ]
  },
  {
   "cell_type": "code",
   "execution_count": null,
   "id": "a903720c",
   "metadata": {},
   "outputs": [],
   "source": [
    "#print the first 3 rows"
   ]
  },
  {
   "cell_type": "code",
   "execution_count": null,
   "id": "f03638e5",
   "metadata": {
    "scrolled": true
   },
   "outputs": [],
   "source": [
    "df_iris.head(3)"
   ]
  },
  {
   "cell_type": "code",
   "execution_count": null,
   "id": "47df5274",
   "metadata": {},
   "outputs": [],
   "source": [
    "#print the number of rows and columns (shape)"
   ]
  },
  {
   "cell_type": "code",
   "execution_count": null,
   "id": "fa6c950c",
   "metadata": {},
   "outputs": [],
   "source": [
    "df_iris.shape"
   ]
  },
  {
   "cell_type": "code",
   "execution_count": null,
   "id": "b67607aa",
   "metadata": {},
   "outputs": [],
   "source": [
    "#print the column names"
   ]
  },
  {
   "cell_type": "code",
   "execution_count": null,
   "id": "d4504727",
   "metadata": {},
   "outputs": [],
   "source": [
    "df_iris.columns"
   ]
  },
  {
   "cell_type": "code",
   "execution_count": null,
   "id": "b6793a0f",
   "metadata": {},
   "outputs": [],
   "source": [
    "#print the data type of each column"
   ]
  },
  {
   "cell_type": "code",
   "execution_count": null,
   "id": "b95ec913",
   "metadata": {
    "scrolled": true
   },
   "outputs": [],
   "source": [
    "df_iris.dtypes"
   ]
  },
  {
   "cell_type": "code",
   "execution_count": null,
   "id": "661aff66",
   "metadata": {},
   "outputs": [],
   "source": [
    "df_iris.info()"
   ]
  },
  {
   "cell_type": "code",
   "execution_count": null,
   "id": "937f9385",
   "metadata": {},
   "outputs": [],
   "source": [
    "#print the summary statistics for each of the numeric variables. Would you recommend rescaling the data based on these statistics?"
   ]
  },
  {
   "cell_type": "code",
   "execution_count": null,
   "id": "b09c48fe",
   "metadata": {
    "scrolled": true
   },
   "outputs": [],
   "source": [
    "df_iris.describe().T"
   ]
  },
  {
   "cell_type": "code",
   "execution_count": null,
   "id": "a4e48954",
   "metadata": {},
   "outputs": [],
   "source": []
  },
  {
   "cell_type": "markdown",
   "id": "bce4d685",
   "metadata": {},
   "source": [
    "## Read the Table1_CustDetails table from the Excel_Exercises.xlsx file into a dataframe named df_excel."
   ]
  },
  {
   "cell_type": "code",
   "execution_count": null,
   "id": "769d1301",
   "metadata": {},
   "outputs": [],
   "source": [
    "#notes - I had to get this file and find where is was in my directory "
   ]
  },
  {
   "cell_type": "code",
   "execution_count": null,
   "id": "8ca1d72c",
   "metadata": {},
   "outputs": [],
   "source": [
    "df_excel = pd.read_excel('Excel_Exercises.xlsx', sheet_name= 'Table1_CustDetails')\n",
    "df_excel"
   ]
  },
  {
   "cell_type": "markdown",
   "id": "5a63a3c9",
   "metadata": {},
   "source": [
    "### assign the first 100 rows to a new dataframe, df_excel_sample"
   ]
  },
  {
   "cell_type": "code",
   "execution_count": null,
   "id": "c8bac87d",
   "metadata": {},
   "outputs": [],
   "source": [
    "df_excel_sample = df_excel.head(100)"
   ]
  },
  {
   "cell_type": "markdown",
   "id": "6e3c4737",
   "metadata": {},
   "source": [
    "### print the number of rows of your original dataframe"
   ]
  },
  {
   "cell_type": "code",
   "execution_count": null,
   "id": "8703ebb9",
   "metadata": {},
   "outputs": [],
   "source": [
    "df_excel.shape[0]"
   ]
  },
  {
   "cell_type": "code",
   "execution_count": null,
   "id": "92943cb2",
   "metadata": {},
   "outputs": [],
   "source": []
  },
  {
   "cell_type": "markdown",
   "id": "06357689",
   "metadata": {},
   "source": [
    "### print the first 5 column names"
   ]
  },
  {
   "cell_type": "code",
   "execution_count": null,
   "id": "26a67c0b",
   "metadata": {},
   "outputs": [],
   "source": [
    "df_excel.columns[:5]"
   ]
  },
  {
   "cell_type": "code",
   "execution_count": null,
   "id": "dbe3f111",
   "metadata": {},
   "outputs": [],
   "source": []
  },
  {
   "cell_type": "markdown",
   "id": "1b149ffa",
   "metadata": {},
   "source": [
    "### print the column names that have a data type of object"
   ]
  },
  {
   "cell_type": "code",
   "execution_count": null,
   "id": "5f8c9f07",
   "metadata": {},
   "outputs": [],
   "source": [
    "df_excel.select_dtypes(include='object')"
   ]
  },
  {
   "cell_type": "markdown",
   "id": "51152a05",
   "metadata": {},
   "source": [
    "### compute the range for each of the numeric variables."
   ]
  },
  {
   "cell_type": "code",
   "execution_count": null,
   "id": "90266325",
   "metadata": {},
   "outputs": [],
   "source": [
    "stats_excel = df_excel.describe().T #the T is for tanspose and this will flip the chart i tried to find how to make the range but this worked \n",
    "stats_excel"
   ]
  },
  {
   "cell_type": "code",
   "execution_count": null,
   "id": "439fe24c",
   "metadata": {},
   "outputs": [],
   "source": [
    "stats_excel['range'] = stats_excel['max'] - stats_excel['min']\n",
    "stats_excel"
   ]
  },
  {
   "cell_type": "code",
   "execution_count": null,
   "id": "34f4ee5a",
   "metadata": {},
   "outputs": [],
   "source": []
  },
  {
   "cell_type": "markdown",
   "id": "129e2354",
   "metadata": {},
   "source": [
    "## Read the data from this google sheet into a dataframe, df_google\n",
    "\n"
   ]
  },
  {
   "cell_type": "code",
   "execution_count": null,
   "id": "d86260fc",
   "metadata": {},
   "outputs": [],
   "source": [
    "sheet_url = 'https://docs.google.com/spreadsheets/d/12dVjru-lRFq-vO5ALQVaWcCa-fbi0SpQxS9Y_JrMKOc/edit#gid=341089357'"
   ]
  },
  {
   "cell_type": "code",
   "execution_count": null,
   "id": "1b1846ec",
   "metadata": {},
   "outputs": [],
   "source": [
    "sheet_export_url = sheet_url.replace('/edit#gid=', '/export?format=csv&gid=')\n",
    "sheet_export_url"
   ]
  },
  {
   "cell_type": "code",
   "execution_count": null,
   "id": "102bd7cc",
   "metadata": {
    "scrolled": true
   },
   "outputs": [],
   "source": [
    "df_google = pd.read_csv(sheet_export_url)\n",
    "df_google"
   ]
  },
  {
   "cell_type": "markdown",
   "id": "f90483d1",
   "metadata": {},
   "source": [
    "#### print the first 3 rows"
   ]
  },
  {
   "cell_type": "code",
   "execution_count": null,
   "id": "ecf6f76a",
   "metadata": {},
   "outputs": [],
   "source": [
    "df_google.head(3)"
   ]
  },
  {
   "cell_type": "markdown",
   "id": "20d536cb",
   "metadata": {},
   "source": [
    "### print the number of rows and columns"
   ]
  },
  {
   "cell_type": "code",
   "execution_count": null,
   "id": "2acbc636",
   "metadata": {},
   "outputs": [],
   "source": [
    "df_google.shape"
   ]
  },
  {
   "cell_type": "markdown",
   "id": "cff694cc",
   "metadata": {},
   "source": [
    "### print the column names"
   ]
  },
  {
   "cell_type": "code",
   "execution_count": null,
   "id": "a5da8b65",
   "metadata": {},
   "outputs": [],
   "source": [
    "df_google.columns.to_list()"
   ]
  },
  {
   "cell_type": "markdown",
   "id": "28a8173b",
   "metadata": {},
   "source": [
    "### print the data type of each column"
   ]
  },
  {
   "cell_type": "code",
   "execution_count": null,
   "id": "a5fc0772",
   "metadata": {},
   "outputs": [],
   "source": [
    "df_google.dtypes"
   ]
  },
  {
   "cell_type": "code",
   "execution_count": null,
   "id": "0b9367c4",
   "metadata": {},
   "outputs": [],
   "source": []
  },
  {
   "cell_type": "markdown",
   "id": "014ac8e8",
   "metadata": {},
   "source": [
    "### print the summary statistics for each of the numeric variables"
   ]
  },
  {
   "cell_type": "code",
   "execution_count": null,
   "id": "1b5f45da",
   "metadata": {},
   "outputs": [],
   "source": [
    "df_google.describe().T"
   ]
  },
  {
   "cell_type": "code",
   "execution_count": null,
   "id": "366a2827",
   "metadata": {},
   "outputs": [],
   "source": []
  },
  {
   "cell_type": "markdown",
   "id": "f82825a4",
   "metadata": {},
   "source": [
    "### print the unique values for each of your categorical variables"
   ]
  },
  {
   "cell_type": "code",
   "execution_count": null,
   "id": "7a537691",
   "metadata": {},
   "outputs": [],
   "source": [
    "df_google.Name.nunique()"
   ]
  },
  {
   "cell_type": "code",
   "execution_count": null,
   "id": "3f81822a",
   "metadata": {},
   "outputs": [],
   "source": [
    "df_google.Sex.nunique()"
   ]
  },
  {
   "cell_type": "code",
   "execution_count": null,
   "id": "dff86dab",
   "metadata": {},
   "outputs": [],
   "source": [
    "df_google.Ticket.nunique()"
   ]
  },
  {
   "cell_type": "code",
   "execution_count": null,
   "id": "e226f6cb",
   "metadata": {},
   "outputs": [],
   "source": [
    "df_google.Cabin.nunique()"
   ]
  },
  {
   "cell_type": "code",
   "execution_count": null,
   "id": "38ec54d9",
   "metadata": {},
   "outputs": [],
   "source": [
    "df_google.Embarked.nunique()"
   ]
  },
  {
   "cell_type": "markdown",
   "id": "2b12cc85",
   "metadata": {},
   "source": [
    "## Make a new python module, acquire.py to hold the following data aquisition functions:"
   ]
  },
  {
   "cell_type": "markdown",
   "id": "c449f7e6",
   "metadata": {},
   "source": [
    "### Make a function named get_titanic_data that returns the titanic data from the codeup data science database as a pandas data frame. Obtain your data from the Codeup Data Science Database."
   ]
  },
  {
   "cell_type": "code",
   "execution_count": null,
   "id": "6290a475",
   "metadata": {},
   "outputs": [],
   "source": []
  },
  {
   "cell_type": "code",
   "execution_count": null,
   "id": "4cb27d24",
   "metadata": {},
   "outputs": [],
   "source": [
    "import env"
   ]
  },
  {
   "cell_type": "code",
   "execution_count": null,
   "id": "b4e24ac4",
   "metadata": {},
   "outputs": [],
   "source": [
    "from env import host, user, password"
   ]
  },
  {
   "cell_type": "code",
   "execution_count": null,
   "id": "0b601913",
   "metadata": {},
   "outputs": [],
   "source": [
    "def get_connection(db, username=user, host=host, password=password):\n",
    "    return f'mysql+pymysql://{username}:{password}@{host}/{db}'"
   ]
  },
  {
   "cell_type": "code",
   "execution_count": null,
   "id": "a0b08168",
   "metadata": {},
   "outputs": [],
   "source": [
    "def new_titanic_data():\n",
    "    '''\n",
    "    This function reads the titanic data from the Codeup db into a df.\n",
    "    '''\n",
    "    # Create SQL query.\n",
    "    sql_query = 'SELECT * FROM passengers'\n",
    "    \n",
    "    # Read in DataFrame from Codeup db.\n",
    "    df = pd.read_sql(sql_query, get_connection('titanic_db'))\n",
    "    \n",
    "    return df"
   ]
  },
  {
   "cell_type": "code",
   "execution_count": null,
   "id": "8475b72d",
   "metadata": {},
   "outputs": [],
   "source": [
    "def get_titanic_data():\n",
    "    '''\n",
    "    This function reads in titanic data from Codeup database, writes data to\n",
    "    a csv file if a local file does not exist, and returns a df.\n",
    "    '''\n",
    "    if os.path.isfile('titanic_df.csv'):\n",
    "        \n",
    "        # If csv file exists, read in data from csv file.\n",
    "        df = pd.read_csv('titanic_df.csv', index_col=0)\n",
    "        \n",
    "    else:\n",
    "        \n",
    "        # Read fresh data from db into a DataFrame.\n",
    "        df = new_titanic_data()\n",
    "        \n",
    "        # Write DataFrame to a csv file.\n",
    "        df.to_csv('titanic_df.csv')\n",
    "        \n",
    "    return df"
   ]
  },
  {
   "cell_type": "code",
   "execution_count": null,
   "id": "a4ffcac0",
   "metadata": {},
   "outputs": [],
   "source": [
    "titanic_df = get_titanic_data()"
   ]
  },
  {
   "cell_type": "code",
   "execution_count": null,
   "id": "a4e61cf1",
   "metadata": {},
   "outputs": [],
   "source": [
    "titanic_df.head()"
   ]
  },
  {
   "cell_type": "code",
   "execution_count": null,
   "id": "b1cb8469",
   "metadata": {},
   "outputs": [],
   "source": [
    "titanic_df.shape"
   ]
  },
  {
   "cell_type": "code",
   "execution_count": null,
   "id": "f6ccff29",
   "metadata": {},
   "outputs": [],
   "source": []
  },
  {
   "cell_type": "code",
   "execution_count": null,
   "id": "a33dac39",
   "metadata": {},
   "outputs": [],
   "source": []
  },
  {
   "cell_type": "code",
   "execution_count": null,
   "id": "13a14516",
   "metadata": {},
   "outputs": [],
   "source": [
    "def new_iris_data():\n",
    "    '''\n",
    "    This function reads the iris data from the Codeup db into a df.\n",
    "    '''\n",
    "    sql_query = \"\"\"\n",
    "                SELECT \n",
    "                    species_id,\n",
    "                    species_name,\n",
    "                    sepal_length,\n",
    "                    sepal_width,\n",
    "                    petal_length,\n",
    "                    petal_width\n",
    "                FROM measurements\n",
    "                JOIN species USING(species_id)\n",
    "                \"\"\"\n",
    "    \n",
    "    # Read in DataFrame from Codeup db.\n",
    "    df = pd.read_sql(sql_query, get_connection('iris_db'))\n",
    "    \n",
    "    return df"
   ]
  },
  {
   "cell_type": "code",
   "execution_count": null,
   "id": "f7cbfec7",
   "metadata": {},
   "outputs": [],
   "source": [
    "def get_iris_data():\n",
    "    '''\n",
    "    This function reads in iris data from Codeup database, writes data to\n",
    "    a csv file if a local file does not exist, and returns a df.\n",
    "    '''\n",
    "    if os.path.isfile('iris_df.csv'):\n",
    "        \n",
    "        # If csv file exists read in data from csv file.\n",
    "        df = pd.read_csv('iris_df.csv', index_col=0)\n",
    "        \n",
    "    else:\n",
    "        \n",
    "        # Read fresh data from db into a DataFrame\n",
    "        df = new_iris_data()\n",
    "        \n",
    "        # Cache data\n",
    "        df.to_csv('iris_df.csv')\n",
    "        \n",
    "    return df"
   ]
  },
  {
   "cell_type": "code",
   "execution_count": null,
   "id": "6bbebfa5",
   "metadata": {},
   "outputs": [],
   "source": [
    "iris_df = get_iris_data()\n",
    "iris_df.head()"
   ]
  },
  {
   "cell_type": "code",
   "execution_count": null,
   "id": "4ef3720f",
   "metadata": {},
   "outputs": [],
   "source": []
  },
  {
   "cell_type": "code",
   "execution_count": null,
   "id": "509b7615",
   "metadata": {},
   "outputs": [],
   "source": [
    "def new_telco_data():\n",
    "    '''\n",
    "    This function reads the iris data from the Codeup db into a df.\n",
    "    '''\n",
    "    sql_query = \"\"\"\n",
    "                select * from customers\n",
    "                join contract_types using (contract_type_id)\n",
    "                join internet_service_types using (internet_service_type_id)\n",
    "                join payment_types using (payment_type_id)\n",
    "                \"\"\"\n",
    "    \n",
    "    # Read in DataFrame from Codeup db.\n",
    "    df = pd.read_sql(sql_query, get_connection('telco_churn'))\n",
    "    \n",
    "    return df"
   ]
  },
  {
   "cell_type": "code",
   "execution_count": null,
   "id": "abd6c8b1",
   "metadata": {},
   "outputs": [],
   "source": [
    "def get_telco_data():\n",
    "    '''\n",
    "    This function reads in iris data from Codeup database, writes data to\n",
    "    a csv file if a local file does not exist, and returns a df.\n",
    "    '''\n",
    "    if os.path.isfile('telco.csv'):\n",
    "        \n",
    "        # If csv file exists read in data from csv file.\n",
    "        df = pd.read_csv('telco.csv', index_col=0)\n",
    "        \n",
    "    else:\n",
    "        \n",
    "        # Read fresh data from db into a DataFrame\n",
    "        df = new_telco_data()\n",
    "        \n",
    "        # Cache data\n",
    "        df.to_csv('telco.csv')\n",
    "        \n",
    "    return df"
   ]
  },
  {
   "cell_type": "code",
   "execution_count": null,
   "id": "5a4bf4d7",
   "metadata": {},
   "outputs": [],
   "source": [
    "get_telco_data()"
   ]
  },
  {
   "cell_type": "markdown",
   "id": "be3bd075",
   "metadata": {},
   "source": [
    "# Data Preperation exercises "
   ]
  },
  {
   "cell_type": "markdown",
   "id": "9f8733b8",
   "metadata": {},
   "source": [
    " ## Using the Iris Data:"
   ]
  },
  {
   "cell_type": "markdown",
   "id": "4a06f66e",
   "metadata": {},
   "source": [
    "- Use the function defined in acquire.py to load the iris data."
   ]
  },
  {
   "cell_type": "code",
   "execution_count": null,
   "id": "6b7b28e3",
   "metadata": {},
   "outputs": [],
   "source": [
    "iris = acquire.get_iris_data()\n",
    "iris"
   ]
  },
  {
   "cell_type": "markdown",
   "id": "773ceae8",
   "metadata": {},
   "source": [
    "- Drop the species_id and measurement_id columns."
   ]
  },
  {
   "cell_type": "code",
   "execution_count": null,
   "id": "d89eb38e",
   "metadata": {},
   "outputs": [],
   "source": [
    "#there isnt any measurement_id for me \n",
    "\n",
    "new_iris = iris.drop(columns=\"species_id\")"
   ]
  },
  {
   "cell_type": "markdown",
   "id": "83f3976c",
   "metadata": {},
   "source": [
    "- Rename the species_name column to just species.\n"
   ]
  },
  {
   "cell_type": "code",
   "execution_count": null,
   "id": "87954535",
   "metadata": {},
   "outputs": [],
   "source": [
    "\n",
    "new_iris = new_iris.rename(columns ={'species_name':'species'})\n",
    "new_iris"
   ]
  },
  {
   "cell_type": "markdown",
   "id": "f5c4d1c5",
   "metadata": {},
   "source": [
    "- Create dummy variables of the species name and concatenate onto the iris dataframe. (This is for practice, we don't always have to encode the target, but if we used species as a feature, we would need to encode it)."
   ]
  },
  {
   "cell_type": "code",
   "execution_count": null,
   "id": "b4c5e1fa",
   "metadata": {},
   "outputs": [],
   "source": [
    "pd.get_dummies(new_iris[['species']])"
   ]
  },
  {
   "cell_type": "code",
   "execution_count": null,
   "id": "79a93ccc",
   "metadata": {},
   "outputs": [],
   "source": [
    "species_dummies = pd.get_dummies(new_iris[['species']],drop_first=[True,True])"
   ]
  },
  {
   "cell_type": "code",
   "execution_count": null,
   "id": "53a4426d",
   "metadata": {},
   "outputs": [],
   "source": [
    "iris = pd.concat([iris, species_dummies], axis=1)\n",
    "iris.head()"
   ]
  },
  {
   "cell_type": "markdown",
   "id": "abd80ced",
   "metadata": {},
   "source": [
    "- Create a function named prep_iris that accepts the untransformed iris data, and returns the data with the transformations above applied."
   ]
  },
  {
   "cell_type": "code",
   "execution_count": null,
   "id": "272f5026",
   "metadata": {},
   "outputs": [],
   "source": [
    "def clean_data(iris):\n",
    "    iris = acquire.get_iris_data()\n",
    "    new_iris = iris.drop(columns=\"species_id\")\n",
    "    new_iris = new_iris.rename(columns ={'species_name':'species'})\n",
    "    species_dummies = pd.get_dummies(new_iris[['species']],drop_first=[True,True])\n",
    "    iris = pd.concat([iris, species_dummies], axis=1)\n",
    "    return iris"
   ]
  },
  {
   "cell_type": "code",
   "execution_count": null,
   "id": "5e9f1f82",
   "metadata": {},
   "outputs": [],
   "source": [
    "prep_iris = clean_data(iris)\n",
    "iris.head()"
   ]
  },
  {
   "cell_type": "code",
   "execution_count": null,
   "id": "05c81e05",
   "metadata": {},
   "outputs": [],
   "source": [
    "iris.info()"
   ]
  },
  {
   "cell_type": "markdown",
   "id": "afcc8913",
   "metadata": {},
   "source": [
    "###  Using the Titanic dataset"
   ]
  },
  {
   "cell_type": "markdown",
   "id": "e14cc302",
   "metadata": {},
   "source": [
    "- Use the function defined in acquire.py to load the Titanic data."
   ]
  },
  {
   "cell_type": "code",
   "execution_count": null,
   "id": "d7204590",
   "metadata": {},
   "outputs": [],
   "source": [
    "titanic = acquire.get_titanic_data()\n",
    "titanic"
   ]
  },
  {
   "cell_type": "code",
   "execution_count": null,
   "id": "300268e0",
   "metadata": {},
   "outputs": [],
   "source": [
    "titanic.info()"
   ]
  },
  {
   "cell_type": "code",
   "execution_count": null,
   "id": "aceb35cc",
   "metadata": {},
   "outputs": [],
   "source": [
    "titanic = titanic.drop(columns=\"deck\")\n",
    "titanic"
   ]
  },
  {
   "cell_type": "markdown",
   "id": "efde9753",
   "metadata": {},
   "source": [
    "- Encode the categorical columns. Create dummy variables of the categorical columns and concatenate them onto the dataframe."
   ]
  },
  {
   "cell_type": "code",
   "execution_count": null,
   "id": "bb211618",
   "metadata": {},
   "outputs": [],
   "source": [
    "dummy_titanic = pd.get_dummies(titanic[['sex', 'class']])\n",
    "dummy_titanic"
   ]
  },
  {
   "cell_type": "code",
   "execution_count": null,
   "id": "66ae11ff",
   "metadata": {},
   "outputs": [],
   "source": [
    "dummy_titanic = pd.get_dummies(titanic[['sex', 'class']], dummy_na= False, drop_first=[True, True])\n",
    "dummy_titanic"
   ]
  },
  {
   "cell_type": "code",
   "execution_count": null,
   "id": "a7ac0615",
   "metadata": {},
   "outputs": [],
   "source": [
    "titanic = pd.concat([titanic, dummy_titanic], axis=1)\n",
    "titanic"
   ]
  },
  {
   "cell_type": "markdown",
   "id": "9791bbfb",
   "metadata": {},
   "source": [
    "- Create a function named prep_titanic that accepts the raw titanic data, and returns the data with the transformations above applied."
   ]
  },
  {
   "cell_type": "code",
   "execution_count": null,
   "id": "9297955d",
   "metadata": {},
   "outputs": [],
   "source": [
    "def clean_data(titanic):\n",
    "    titanic = acquire.get_titanic_data()\n",
    "    titanic = titanic.drop(columns=\"deck\")\n",
    "    dummy_titanic = pd.get_dummies(titanic[['sex', 'class']], dummy_na= False, drop_first=[True, True])\n",
    "    titanic = pd.concat([titanic, dummy_titanic], axis=1)\n",
    "    return titanic"
   ]
  },
  {
   "cell_type": "code",
   "execution_count": null,
   "id": "ce82488c",
   "metadata": {},
   "outputs": [],
   "source": [
    "prep_titanic = clean_data(titanic)\n",
    "prep_titanic"
   ]
  },
  {
   "cell_type": "code",
   "execution_count": null,
   "id": "9ecf9ec9",
   "metadata": {},
   "outputs": [],
   "source": [
    "prep_titanic.info()"
   ]
  },
  {
   "cell_type": "markdown",
   "id": "2f52cf0b",
   "metadata": {},
   "source": [
    "## Using the Telco dataset"
   ]
  },
  {
   "cell_type": "markdown",
   "id": "aa3bb41f",
   "metadata": {},
   "source": [
    "- Use the function defined in acquire.py to load the Telco data."
   ]
  },
  {
   "cell_type": "code",
   "execution_count": null,
   "id": "55e4b537",
   "metadata": {},
   "outputs": [],
   "source": [
    "telco = acquire.get_telco_data()"
   ]
  },
  {
   "cell_type": "code",
   "execution_count": null,
   "id": "c079c53d",
   "metadata": {
    "scrolled": true
   },
   "outputs": [],
   "source": [
    "telco"
   ]
  },
  {
   "cell_type": "code",
   "execution_count": null,
   "id": "a62c5580",
   "metadata": {},
   "outputs": [],
   "source": [
    "telco.info()"
   ]
  },
  {
   "cell_type": "code",
   "execution_count": null,
   "id": "5077d4fb",
   "metadata": {},
   "outputs": [],
   "source": []
  },
  {
   "cell_type": "markdown",
   "id": "90443cc6",
   "metadata": {},
   "source": [
    "- Drop any unnecessary, unhelpful, or duplicated columns. This could mean dropping foreign key columns but keeping the corresponding string values, for example."
   ]
  },
  {
   "cell_type": "code",
   "execution_count": null,
   "id": "2ad99ae2",
   "metadata": {},
   "outputs": [],
   "source": [
    "cols_to_drop = ['payment_type_id', 'internet_service_type_id', 'contract_type_id']\n",
    "telco = telco.drop(columns=cols_to_drop)\n",
    "telco.shape"
   ]
  },
  {
   "cell_type": "code",
   "execution_count": null,
   "id": "2e698f59",
   "metadata": {
    "scrolled": true
   },
   "outputs": [],
   "source": [
    "telco.head()"
   ]
  },
  {
   "cell_type": "markdown",
   "id": "eab92f4c",
   "metadata": {},
   "source": [
    "- Encode the categorical columns. Create dummy variables of the categorical columns and concatenate them onto the dataframe."
   ]
  },
  {
   "cell_type": "code",
   "execution_count": null,
   "id": "c15860d5",
   "metadata": {},
   "outputs": [],
   "source": [
    "dummy_telco = pd.get_dummies(telco[['gender', 'phone_service','multiple_lines']], dummy_na= False, drop_first=[True, True])\n",
    "dummy_telco\n"
   ]
  },
  {
   "cell_type": "code",
   "execution_count": null,
   "id": "48f6b63c",
   "metadata": {},
   "outputs": [],
   "source": [
    "telco = pd.concat([telco, dummy_telco], axis=1)\n",
    "telco.head()"
   ]
  },
  {
   "cell_type": "markdown",
   "id": "d5d82458",
   "metadata": {},
   "source": [
    "- Create a function named prep_telco that accepts the raw telco data, and returns the data with the transformations above applied."
   ]
  },
  {
   "cell_type": "code",
   "execution_count": null,
   "id": "ffbeeceb",
   "metadata": {},
   "outputs": [],
   "source": [
    "def clean_data(telco):\n",
    "    telco = acquire.get_telco_data()\n",
    "    cols_to_drop = ['payment_type_id', 'internet_service_type_id', 'contract_type_id']\n",
    "    telco = telco.drop(columns=cols_to_drop)\n",
    "    dummy_telco = pd.get_dummies(telco[['gender', 'phone_service','multiple_lines']], dummy_na= False, drop_first=[True, True])\n",
    "    telco = pd.concat([telco, dummy_telco], axis=1)\n",
    "    return telco"
   ]
  },
  {
   "cell_type": "code",
   "execution_count": null,
   "id": "adea6627",
   "metadata": {},
   "outputs": [],
   "source": [
    "prep_telco = clean_data(telco)\n",
    "prep_telco.head()"
   ]
  },
  {
   "cell_type": "code",
   "execution_count": null,
   "id": "65ed5349",
   "metadata": {},
   "outputs": [],
   "source": []
  },
  {
   "cell_type": "markdown",
   "id": "70334b7d",
   "metadata": {},
   "source": [
    "# Exploraoty Analysis Excersizes "
   ]
  },
  {
   "cell_type": "code",
   "execution_count": 1,
   "id": "f2d91fc2",
   "metadata": {},
   "outputs": [],
   "source": [
    "import warnings\n",
    "warnings.filterwarnings(\"ignore\")\n",
    "\n",
    "import pandas as pd\n",
    "import numpy as np\n",
    "import matplotlib.pyplot as plt\n",
    "import seaborn as sns\n",
    "from scipy import stats\n",
    "from sklearn.model_selection import train_test_split\n",
    "from prepare import train_validate_test_split\n",
    "np.random.seed(123)\n"
   ]
  },
  {
   "cell_type": "markdown",
   "id": "d69cf6f5",
   "metadata": {},
   "source": [
    "Section 1 - iris_db: Using iris data from our mySQL server and the methods used in the lesson above:\n",
    "        "
   ]
  },
  {
   "cell_type": "markdown",
   "id": "4fe94b0d",
   "metadata": {},
   "source": [
    "## Acquire, prepare & split your data."
   ]
  },
  {
   "cell_type": "code",
   "execution_count": 5,
   "id": "639835f1",
   "metadata": {
    "scrolled": false
   },
   "outputs": [
    {
     "data": {
      "text/html": [
       "<div>\n",
       "<style scoped>\n",
       "    .dataframe tbody tr th:only-of-type {\n",
       "        vertical-align: middle;\n",
       "    }\n",
       "\n",
       "    .dataframe tbody tr th {\n",
       "        vertical-align: top;\n",
       "    }\n",
       "\n",
       "    .dataframe thead th {\n",
       "        text-align: right;\n",
       "    }\n",
       "</style>\n",
       "<table border=\"1\" class=\"dataframe\">\n",
       "  <thead>\n",
       "    <tr style=\"text-align: right;\">\n",
       "      <th></th>\n",
       "      <th>species_id</th>\n",
       "      <th>species_name</th>\n",
       "      <th>sepal_length</th>\n",
       "      <th>sepal_width</th>\n",
       "      <th>petal_length</th>\n",
       "      <th>petal_width</th>\n",
       "    </tr>\n",
       "  </thead>\n",
       "  <tbody>\n",
       "    <tr>\n",
       "      <th>0</th>\n",
       "      <td>1</td>\n",
       "      <td>setosa</td>\n",
       "      <td>5.1</td>\n",
       "      <td>3.5</td>\n",
       "      <td>1.4</td>\n",
       "      <td>0.2</td>\n",
       "    </tr>\n",
       "    <tr>\n",
       "      <th>1</th>\n",
       "      <td>1</td>\n",
       "      <td>setosa</td>\n",
       "      <td>4.9</td>\n",
       "      <td>3.0</td>\n",
       "      <td>1.4</td>\n",
       "      <td>0.2</td>\n",
       "    </tr>\n",
       "    <tr>\n",
       "      <th>2</th>\n",
       "      <td>1</td>\n",
       "      <td>setosa</td>\n",
       "      <td>4.7</td>\n",
       "      <td>3.2</td>\n",
       "      <td>1.3</td>\n",
       "      <td>0.2</td>\n",
       "    </tr>\n",
       "    <tr>\n",
       "      <th>3</th>\n",
       "      <td>1</td>\n",
       "      <td>setosa</td>\n",
       "      <td>4.6</td>\n",
       "      <td>3.1</td>\n",
       "      <td>1.5</td>\n",
       "      <td>0.2</td>\n",
       "    </tr>\n",
       "    <tr>\n",
       "      <th>4</th>\n",
       "      <td>1</td>\n",
       "      <td>setosa</td>\n",
       "      <td>5.0</td>\n",
       "      <td>3.6</td>\n",
       "      <td>1.4</td>\n",
       "      <td>0.2</td>\n",
       "    </tr>\n",
       "  </tbody>\n",
       "</table>\n",
       "</div>"
      ],
      "text/plain": [
       "   species_id species_name  sepal_length  sepal_width  petal_length  \\\n",
       "0           1       setosa           5.1          3.5           1.4   \n",
       "1           1       setosa           4.9          3.0           1.4   \n",
       "2           1       setosa           4.7          3.2           1.3   \n",
       "3           1       setosa           4.6          3.1           1.5   \n",
       "4           1       setosa           5.0          3.6           1.4   \n",
       "\n",
       "   petal_width  \n",
       "0          0.2  \n",
       "1          0.2  \n",
       "2          0.2  \n",
       "3          0.2  \n",
       "4          0.2  "
      ]
     },
     "execution_count": 5,
     "metadata": {},
     "output_type": "execute_result"
    }
   ],
   "source": [
    "iris = acquire.get_iris_data()\n",
    "iris.head()"
   ]
  },
  {
   "cell_type": "code",
   "execution_count": 6,
   "id": "2fece91d",
   "metadata": {},
   "outputs": [
    {
     "data": {
      "text/html": [
       "<div>\n",
       "<style scoped>\n",
       "    .dataframe tbody tr th:only-of-type {\n",
       "        vertical-align: middle;\n",
       "    }\n",
       "\n",
       "    .dataframe tbody tr th {\n",
       "        vertical-align: top;\n",
       "    }\n",
       "\n",
       "    .dataframe thead th {\n",
       "        text-align: right;\n",
       "    }\n",
       "</style>\n",
       "<table border=\"1\" class=\"dataframe\">\n",
       "  <thead>\n",
       "    <tr style=\"text-align: right;\">\n",
       "      <th></th>\n",
       "      <th>species_name</th>\n",
       "      <th>sepal_length</th>\n",
       "      <th>sepal_width</th>\n",
       "      <th>petal_length</th>\n",
       "      <th>petal_width</th>\n",
       "    </tr>\n",
       "  </thead>\n",
       "  <tbody>\n",
       "    <tr>\n",
       "      <th>0</th>\n",
       "      <td>setosa</td>\n",
       "      <td>5.1</td>\n",
       "      <td>3.5</td>\n",
       "      <td>1.4</td>\n",
       "      <td>0.2</td>\n",
       "    </tr>\n",
       "    <tr>\n",
       "      <th>1</th>\n",
       "      <td>setosa</td>\n",
       "      <td>4.9</td>\n",
       "      <td>3.0</td>\n",
       "      <td>1.4</td>\n",
       "      <td>0.2</td>\n",
       "    </tr>\n",
       "  </tbody>\n",
       "</table>\n",
       "</div>"
      ],
      "text/plain": [
       "  species_name  sepal_length  sepal_width  petal_length  petal_width\n",
       "0       setosa           5.1          3.5           1.4          0.2\n",
       "1       setosa           4.9          3.0           1.4          0.2"
      ]
     },
     "execution_count": 6,
     "metadata": {},
     "output_type": "execute_result"
    }
   ],
   "source": [
    "iris = iris.drop(columns='species_id')\n",
    "iris.head(2)"
   ]
  },
  {
   "cell_type": "code",
   "execution_count": null,
   "id": "83b53ceb",
   "metadata": {},
   "outputs": [],
   "source": [
    "import env\n",
    "\n",
    "def get_connection(db, user=env.user, host=env.host, password=env.password):\n",
    "    return f'mysql+pymysql://{user}:{password}@{host}/{db}'\n",
    "\n",
    "def get_iris():\n",
    "    my_query=\"SELECT * FROM iris_db.measurements\"\n",
    "    df = pd.read_sql(my_query, get_connection('iris_db'))\n",
    "    return df"
   ]
  },
  {
   "cell_type": "code",
   "execution_count": null,
   "id": "fa19405a",
   "metadata": {},
   "outputs": [],
   "source": [
    "df = get_iris()\n",
    "df"
   ]
  },
  {
   "cell_type": "markdown",
   "id": "5f1a20cf",
   "metadata": {},
   "source": [
    "split your data."
   ]
  },
  {
   "cell_type": "code",
   "execution_count": 7,
   "id": "ff03aaae",
   "metadata": {},
   "outputs": [],
   "source": [
    "def train_validate_test_split(iris, target, seed=123):\n",
    "   \n",
    "    train_validate, test = train_test_split(iris, test_size=0.2, \n",
    "                                            random_state=seed, \n",
    "                                            stratify=iris[target])\n",
    "    train, validate = train_test_split(train_validate, test_size=0.3, \n",
    "                                       random_state=seed,\n",
    "                                       stratify=train_validate[target])\n",
    "    return train, validate, test\n"
   ]
  },
  {
   "cell_type": "code",
   "execution_count": 8,
   "id": "ed96acdc",
   "metadata": {},
   "outputs": [
    {
     "data": {
      "text/plain": [
       "((84, 5), (36, 5), (30, 5))"
      ]
     },
     "execution_count": 8,
     "metadata": {},
     "output_type": "execute_result"
    }
   ],
   "source": [
    "# Stratify with categorical target variables\n",
    "train, validate, test = train_validate_test_split(iris, target='species_name')\n",
    "train.shape, validate.shape, test.shape\n"
   ]
  },
  {
   "cell_type": "code",
   "execution_count": 9,
   "id": "e721abf7",
   "metadata": {},
   "outputs": [
    {
     "data": {
      "text/html": [
       "<div>\n",
       "<style scoped>\n",
       "    .dataframe tbody tr th:only-of-type {\n",
       "        vertical-align: middle;\n",
       "    }\n",
       "\n",
       "    .dataframe tbody tr th {\n",
       "        vertical-align: top;\n",
       "    }\n",
       "\n",
       "    .dataframe thead th {\n",
       "        text-align: right;\n",
       "    }\n",
       "</style>\n",
       "<table border=\"1\" class=\"dataframe\">\n",
       "  <thead>\n",
       "    <tr style=\"text-align: right;\">\n",
       "      <th></th>\n",
       "      <th>species_name</th>\n",
       "      <th>sepal_length</th>\n",
       "      <th>sepal_width</th>\n",
       "      <th>petal_length</th>\n",
       "      <th>petal_width</th>\n",
       "    </tr>\n",
       "  </thead>\n",
       "  <tbody>\n",
       "    <tr>\n",
       "      <th>79</th>\n",
       "      <td>versicolor</td>\n",
       "      <td>5.7</td>\n",
       "      <td>2.6</td>\n",
       "      <td>3.5</td>\n",
       "      <td>1.0</td>\n",
       "    </tr>\n",
       "    <tr>\n",
       "      <th>36</th>\n",
       "      <td>setosa</td>\n",
       "      <td>5.5</td>\n",
       "      <td>3.5</td>\n",
       "      <td>1.3</td>\n",
       "      <td>0.2</td>\n",
       "    </tr>\n",
       "  </tbody>\n",
       "</table>\n",
       "</div>"
      ],
      "text/plain": [
       "   species_name  sepal_length  sepal_width  petal_length  petal_width\n",
       "79   versicolor           5.7          2.6           3.5          1.0\n",
       "36       setosa           5.5          3.5           1.3          0.2"
      ]
     },
     "execution_count": 9,
     "metadata": {},
     "output_type": "execute_result"
    }
   ],
   "source": [
    "train.head(2)\n"
   ]
  },
  {
   "cell_type": "code",
   "execution_count": 10,
   "id": "300583c8",
   "metadata": {},
   "outputs": [
    {
     "data": {
      "text/html": [
       "<div>\n",
       "<style scoped>\n",
       "    .dataframe tbody tr th:only-of-type {\n",
       "        vertical-align: middle;\n",
       "    }\n",
       "\n",
       "    .dataframe tbody tr th {\n",
       "        vertical-align: top;\n",
       "    }\n",
       "\n",
       "    .dataframe thead th {\n",
       "        text-align: right;\n",
       "    }\n",
       "</style>\n",
       "<table border=\"1\" class=\"dataframe\">\n",
       "  <thead>\n",
       "    <tr style=\"text-align: right;\">\n",
       "      <th></th>\n",
       "      <th>species_name</th>\n",
       "      <th>sepal_length</th>\n",
       "      <th>sepal_width</th>\n",
       "      <th>petal_length</th>\n",
       "      <th>petal_width</th>\n",
       "    </tr>\n",
       "  </thead>\n",
       "  <tbody>\n",
       "    <tr>\n",
       "      <th>134</th>\n",
       "      <td>virginica</td>\n",
       "      <td>6.1</td>\n",
       "      <td>2.6</td>\n",
       "      <td>5.6</td>\n",
       "      <td>1.4</td>\n",
       "    </tr>\n",
       "    <tr>\n",
       "      <th>62</th>\n",
       "      <td>versicolor</td>\n",
       "      <td>6.0</td>\n",
       "      <td>2.2</td>\n",
       "      <td>4.0</td>\n",
       "      <td>1.0</td>\n",
       "    </tr>\n",
       "    <tr>\n",
       "      <th>98</th>\n",
       "      <td>versicolor</td>\n",
       "      <td>5.1</td>\n",
       "      <td>2.5</td>\n",
       "      <td>3.0</td>\n",
       "      <td>1.1</td>\n",
       "    </tr>\n",
       "    <tr>\n",
       "      <th>66</th>\n",
       "      <td>versicolor</td>\n",
       "      <td>5.6</td>\n",
       "      <td>3.0</td>\n",
       "      <td>4.5</td>\n",
       "      <td>1.5</td>\n",
       "    </tr>\n",
       "    <tr>\n",
       "      <th>121</th>\n",
       "      <td>virginica</td>\n",
       "      <td>5.6</td>\n",
       "      <td>2.8</td>\n",
       "      <td>4.9</td>\n",
       "      <td>2.0</td>\n",
       "    </tr>\n",
       "  </tbody>\n",
       "</table>\n",
       "</div>"
      ],
      "text/plain": [
       "    species_name  sepal_length  sepal_width  petal_length  petal_width\n",
       "134    virginica           6.1          2.6           5.6          1.4\n",
       "62    versicolor           6.0          2.2           4.0          1.0\n",
       "98    versicolor           5.1          2.5           3.0          1.1\n",
       "66    versicolor           5.6          3.0           4.5          1.5\n",
       "121    virginica           5.6          2.8           4.9          2.0"
      ]
     },
     "execution_count": 10,
     "metadata": {},
     "output_type": "execute_result"
    }
   ],
   "source": [
    "validate.head()"
   ]
  },
  {
   "cell_type": "code",
   "execution_count": 11,
   "id": "92be7eba",
   "metadata": {
    "scrolled": false
   },
   "outputs": [
    {
     "data": {
      "text/html": [
       "<div>\n",
       "<style scoped>\n",
       "    .dataframe tbody tr th:only-of-type {\n",
       "        vertical-align: middle;\n",
       "    }\n",
       "\n",
       "    .dataframe tbody tr th {\n",
       "        vertical-align: top;\n",
       "    }\n",
       "\n",
       "    .dataframe thead th {\n",
       "        text-align: right;\n",
       "    }\n",
       "</style>\n",
       "<table border=\"1\" class=\"dataframe\">\n",
       "  <thead>\n",
       "    <tr style=\"text-align: right;\">\n",
       "      <th></th>\n",
       "      <th>species_name</th>\n",
       "      <th>sepal_length</th>\n",
       "      <th>sepal_width</th>\n",
       "      <th>petal_length</th>\n",
       "      <th>petal_width</th>\n",
       "    </tr>\n",
       "  </thead>\n",
       "  <tbody>\n",
       "    <tr>\n",
       "      <th>80</th>\n",
       "      <td>versicolor</td>\n",
       "      <td>5.5</td>\n",
       "      <td>2.4</td>\n",
       "      <td>3.8</td>\n",
       "      <td>1.1</td>\n",
       "    </tr>\n",
       "    <tr>\n",
       "      <th>45</th>\n",
       "      <td>setosa</td>\n",
       "      <td>4.8</td>\n",
       "      <td>3.0</td>\n",
       "      <td>1.4</td>\n",
       "      <td>0.3</td>\n",
       "    </tr>\n",
       "    <tr>\n",
       "      <th>144</th>\n",
       "      <td>virginica</td>\n",
       "      <td>6.7</td>\n",
       "      <td>3.3</td>\n",
       "      <td>5.7</td>\n",
       "      <td>2.5</td>\n",
       "    </tr>\n",
       "    <tr>\n",
       "      <th>110</th>\n",
       "      <td>virginica</td>\n",
       "      <td>6.5</td>\n",
       "      <td>3.2</td>\n",
       "      <td>5.1</td>\n",
       "      <td>2.0</td>\n",
       "    </tr>\n",
       "    <tr>\n",
       "      <th>38</th>\n",
       "      <td>setosa</td>\n",
       "      <td>4.4</td>\n",
       "      <td>3.0</td>\n",
       "      <td>1.3</td>\n",
       "      <td>0.2</td>\n",
       "    </tr>\n",
       "  </tbody>\n",
       "</table>\n",
       "</div>"
      ],
      "text/plain": [
       "    species_name  sepal_length  sepal_width  petal_length  petal_width\n",
       "80    versicolor           5.5          2.4           3.8          1.1\n",
       "45        setosa           4.8          3.0           1.4          0.3\n",
       "144    virginica           6.7          3.3           5.7          2.5\n",
       "110    virginica           6.5          3.2           5.1          2.0\n",
       "38        setosa           4.4          3.0           1.3          0.2"
      ]
     },
     "execution_count": 11,
     "metadata": {},
     "output_type": "execute_result"
    }
   ],
   "source": [
    "test.head()"
   ]
  },
  {
   "cell_type": "code",
   "execution_count": null,
   "id": "876ba30d",
   "metadata": {},
   "outputs": [],
   "source": []
  },
  {
   "cell_type": "markdown",
   "id": "af5a0018",
   "metadata": {},
   "source": [
    "## 2 Univariate Stats"
   ]
  },
  {
   "cell_type": "markdown",
   "id": "53afa0ec",
   "metadata": {},
   "source": [
    "\n",
    "For each measurement type (quantitative variable): create a histogram, boxplot, & compute descriptive statistics (using .describe()).\n",
    "\n",
    "For each species (categorical variable): create a frequency table and a bar plot of those frequencies.\n",
    "\n",
    "Document takeaways & any actions."
   ]
  },
  {
   "cell_type": "code",
   "execution_count": 28,
   "id": "2f559849",
   "metadata": {},
   "outputs": [
    {
     "data": {
      "text/html": [
       "<div>\n",
       "<style scoped>\n",
       "    .dataframe tbody tr th:only-of-type {\n",
       "        vertical-align: middle;\n",
       "    }\n",
       "\n",
       "    .dataframe tbody tr th {\n",
       "        vertical-align: top;\n",
       "    }\n",
       "\n",
       "    .dataframe thead th {\n",
       "        text-align: right;\n",
       "    }\n",
       "</style>\n",
       "<table border=\"1\" class=\"dataframe\">\n",
       "  <thead>\n",
       "    <tr style=\"text-align: right;\">\n",
       "      <th></th>\n",
       "      <th>sepal_length</th>\n",
       "      <th>sepal_width</th>\n",
       "      <th>petal_length</th>\n",
       "      <th>petal_width</th>\n",
       "    </tr>\n",
       "  </thead>\n",
       "  <tbody>\n",
       "    <tr>\n",
       "      <th>count</th>\n",
       "      <td>84.000000</td>\n",
       "      <td>84.000000</td>\n",
       "      <td>84.000000</td>\n",
       "      <td>84.000000</td>\n",
       "    </tr>\n",
       "    <tr>\n",
       "      <th>mean</th>\n",
       "      <td>5.870238</td>\n",
       "      <td>3.075000</td>\n",
       "      <td>3.771429</td>\n",
       "      <td>1.203571</td>\n",
       "    </tr>\n",
       "    <tr>\n",
       "      <th>std</th>\n",
       "      <td>0.769099</td>\n",
       "      <td>0.448256</td>\n",
       "      <td>1.734940</td>\n",
       "      <td>0.752577</td>\n",
       "    </tr>\n",
       "    <tr>\n",
       "      <th>min</th>\n",
       "      <td>4.400000</td>\n",
       "      <td>2.200000</td>\n",
       "      <td>1.200000</td>\n",
       "      <td>0.100000</td>\n",
       "    </tr>\n",
       "    <tr>\n",
       "      <th>25%</th>\n",
       "      <td>5.375000</td>\n",
       "      <td>2.800000</td>\n",
       "      <td>1.600000</td>\n",
       "      <td>0.400000</td>\n",
       "    </tr>\n",
       "    <tr>\n",
       "      <th>50%</th>\n",
       "      <td>5.800000</td>\n",
       "      <td>3.000000</td>\n",
       "      <td>4.250000</td>\n",
       "      <td>1.300000</td>\n",
       "    </tr>\n",
       "    <tr>\n",
       "      <th>75%</th>\n",
       "      <td>6.400000</td>\n",
       "      <td>3.400000</td>\n",
       "      <td>5.100000</td>\n",
       "      <td>1.800000</td>\n",
       "    </tr>\n",
       "    <tr>\n",
       "      <th>max</th>\n",
       "      <td>7.900000</td>\n",
       "      <td>4.400000</td>\n",
       "      <td>6.900000</td>\n",
       "      <td>2.500000</td>\n",
       "    </tr>\n",
       "  </tbody>\n",
       "</table>\n",
       "</div>"
      ],
      "text/plain": [
       "       sepal_length  sepal_width  petal_length  petal_width\n",
       "count     84.000000    84.000000     84.000000    84.000000\n",
       "mean       5.870238     3.075000      3.771429     1.203571\n",
       "std        0.769099     0.448256      1.734940     0.752577\n",
       "min        4.400000     2.200000      1.200000     0.100000\n",
       "25%        5.375000     2.800000      1.600000     0.400000\n",
       "50%        5.800000     3.000000      4.250000     1.300000\n",
       "75%        6.400000     3.400000      5.100000     1.800000\n",
       "max        7.900000     4.400000      6.900000     2.500000"
      ]
     },
     "execution_count": 28,
     "metadata": {},
     "output_type": "execute_result"
    }
   ],
   "source": [
    "train.describe()"
   ]
  },
  {
   "cell_type": "code",
   "execution_count": 13,
   "id": "eceb8751",
   "metadata": {},
   "outputs": [
    {
     "data": {
      "image/png": "[encoded data removed]",
      "text/plain": [
       "<Figure size 432x288 with 1 Axes>"
      ]
     },
     "metadata": {
      "needs_background": "light"
     },
     "output_type": "display_data"
    }
   ],
   "source": [
    "plt.title(\"sepal_length\")\n",
    "train.sepal_length.hist()\n",
    "plt.show()\n"
   ]
  },
  {
   "cell_type": "code",
   "execution_count": 18,
   "id": "c5ce8a82",
   "metadata": {},
   "outputs": [
    {
     "data": {
      "text/plain": [
       "<AxesSubplot:title={'center':'sepal_length'}, xlabel='sepal_length'>"
      ]
     },
     "execution_count": 18,
     "metadata": {},
     "output_type": "execute_result"
    },
    {
     "data": {
      "image/png": "[encoded data removed]",
      "text/plain": [
       "<Figure size 432x288 with 1 Axes>"
      ]
     },
     "metadata": {
      "needs_background": "light"
     },
     "output_type": "display_data"
    }
   ],
   "source": [
    "plt.title(\"sepal_length\")\n",
    "sns.boxplot(x='sepal_length',data=train)"
   ]
  },
  {
   "cell_type": "code",
   "execution_count": 20,
   "id": "34aba223",
   "metadata": {},
   "outputs": [
    {
     "data": {
      "image/png": "[encoded data removed]",
      "text/plain": [
       "<Figure size 432x288 with 1 Axes>"
      ]
     },
     "metadata": {
      "needs_background": "light"
     },
     "output_type": "display_data"
    }
   ],
   "source": [
    "plt.title(\"sepal_width\")\n",
    "train.sepal_width.hist()\n",
    "plt.show()\n"
   ]
  },
  {
   "cell_type": "code",
   "execution_count": 21,
   "id": "af8f0df6",
   "metadata": {},
   "outputs": [
    {
     "data": {
      "text/plain": [
       "<AxesSubplot:title={'center':'sepal_width'}, xlabel='sepal_width'>"
      ]
     },
     "execution_count": 21,
     "metadata": {},
     "output_type": "execute_result"
    },
    {
     "data": {
      "image/png": "[encoded data removed]",
      "text/plain": [
       "<Figure size 432x288 with 1 Axes>"
      ]
     },
     "metadata": {
      "needs_background": "light"
     },
     "output_type": "display_data"
    }
   ],
   "source": [
    "plt.title(\"sepal_width\")\n",
    "sns.boxplot(x='sepal_width',data=train)"
   ]
  },
  {
   "cell_type": "code",
   "execution_count": 22,
   "id": "2784005f",
   "metadata": {},
   "outputs": [
    {
     "data": {
      "image/png": "[encoded data removed]",
      "text/plain": [
       "<Figure size 432x288 with 1 Axes>"
      ]
     },
     "metadata": {
      "needs_background": "light"
     },
     "output_type": "display_data"
    }
   ],
   "source": [
    "plt.title(\"petal_length\")\n",
    "train.petal_length.hist()\n",
    "plt.show()\n"
   ]
  },
  {
   "cell_type": "code",
   "execution_count": 23,
   "id": "f26e20a2",
   "metadata": {},
   "outputs": [
    {
     "data": {
      "text/plain": [
       "<AxesSubplot:title={'center':'petal_length'}, xlabel='petal_length'>"
      ]
     },
     "execution_count": 23,
     "metadata": {},
     "output_type": "execute_result"
    },
    {
     "data": {
      "image/png": "[encoded data removed]",
      "text/plain": [
       "<Figure size 432x288 with 1 Axes>"
      ]
     },
     "metadata": {
      "needs_background": "light"
     },
     "output_type": "display_data"
    }
   ],
   "source": [
    "plt.title(\"petal_length\")\n",
    "sns.boxplot(x='petal_length',data=train)"
   ]
  },
  {
   "cell_type": "code",
   "execution_count": 24,
   "id": "ed97368a",
   "metadata": {},
   "outputs": [
    {
     "data": {
      "image/png": "[encoded data removed]",
      "text/plain": [
       "<Figure size 432x288 with 1 Axes>"
      ]
     },
     "metadata": {
      "needs_background": "light"
     },
     "output_type": "display_data"
    }
   ],
   "source": [
    "plt.title(\"petal_width\")\n",
    "train.petal_width.hist()\n",
    "plt.show()"
   ]
  },
  {
   "cell_type": "code",
   "execution_count": 25,
   "id": "33687f69",
   "metadata": {},
   "outputs": [
    {
     "data": {
      "text/plain": [
       "<AxesSubplot:title={'center':'petal_width'}, xlabel='petal_width'>"
      ]
     },
     "execution_count": 25,
     "metadata": {},
     "output_type": "execute_result"
    },
    {
     "data": {
      "image/png": "[encoded data removed]",
      "text/plain": [
       "<Figure size 432x288 with 1 Axes>"
      ]
     },
     "metadata": {
      "needs_background": "light"
     },
     "output_type": "display_data"
    }
   ],
   "source": [
    "plt.title(\"petal_width\")\n",
    "sns.boxplot(x='petal_width',data=train)"
   ]
  },
  {
   "cell_type": "markdown",
   "id": "d2d18fd7",
   "metadata": {},
   "source": [
    "- For each species (categorical variable): create a frequency table and a bar plot of those frequencies."
   ]
  },
  {
   "cell_type": "code",
   "execution_count": 29,
   "id": "47c4e9a2",
   "metadata": {},
   "outputs": [
    {
     "data": {
      "text/plain": [
       "versicolor    28\n",
       "setosa        28\n",
       "virginica     28\n",
       "Name: species_name, dtype: int64"
      ]
     },
     "execution_count": 29,
     "metadata": {},
     "output_type": "execute_result"
    }
   ],
   "source": [
    "train.species_name.value_counts()"
   ]
  },
  {
   "cell_type": "code",
   "execution_count": 31,
   "id": "ad607bcd",
   "metadata": {},
   "outputs": [
    {
     "data": {
      "text/plain": [
       "(array([28.,  0.,  0.,  0.,  0., 28.,  0.,  0.,  0., 28.]),\n",
       " array([0. , 0.2, 0.4, 0.6, 0.8, 1. , 1.2, 1.4, 1.6, 1.8, 2. ]),\n",
       " <BarContainer object of 10 artists>)"
      ]
     },
     "execution_count": 31,
     "metadata": {},
     "output_type": "execute_result"
    },
    {
     "data": {
      "image/png": "[encoded data removed]",
      "text/plain": [
       "<Figure size 432x288 with 1 Axes>"
      ]
     },
     "metadata": {
      "needs_background": "light"
     },
     "output_type": "display_data"
    }
   ],
   "source": [
    "plt.hist(train.species_name)"
   ]
  },
  {
   "cell_type": "markdown",
   "id": "1f41628a",
   "metadata": {},
   "source": [
    " ## Bivariate Stats"
   ]
  },
  {
   "cell_type": "markdown",
   "id": "c656717c",
   "metadata": {},
   "source": [
    "Visualize each measurement type (y-axis) with the species variable (x-axis) using barplots, adding a horizontal line showing the overall mean of the metric (y-axis).\n",
    "\n"
   ]
  },
  {
   "cell_type": "code",
   "execution_count": 41,
   "id": "2bd9f2b5",
   "metadata": {},
   "outputs": [
    {
     "data": {
      "text/html": [
       "<div>\n",
       "<style scoped>\n",
       "    .dataframe tbody tr th:only-of-type {\n",
       "        vertical-align: middle;\n",
       "    }\n",
       "\n",
       "    .dataframe tbody tr th {\n",
       "        vertical-align: top;\n",
       "    }\n",
       "\n",
       "    .dataframe thead th {\n",
       "        text-align: right;\n",
       "    }\n",
       "</style>\n",
       "<table border=\"1\" class=\"dataframe\">\n",
       "  <thead>\n",
       "    <tr style=\"text-align: right;\">\n",
       "      <th></th>\n",
       "      <th>sepal_length</th>\n",
       "      <th>sepal_width</th>\n",
       "      <th>petal_length</th>\n",
       "      <th>petal_width</th>\n",
       "    </tr>\n",
       "  </thead>\n",
       "  <tbody>\n",
       "    <tr>\n",
       "      <th>count</th>\n",
       "      <td>84.000000</td>\n",
       "      <td>84.000000</td>\n",
       "      <td>84.000000</td>\n",
       "      <td>84.000000</td>\n",
       "    </tr>\n",
       "    <tr>\n",
       "      <th>mean</th>\n",
       "      <td>5.870238</td>\n",
       "      <td>3.075000</td>\n",
       "      <td>3.771429</td>\n",
       "      <td>1.203571</td>\n",
       "    </tr>\n",
       "    <tr>\n",
       "      <th>std</th>\n",
       "      <td>0.769099</td>\n",
       "      <td>0.448256</td>\n",
       "      <td>1.734940</td>\n",
       "      <td>0.752577</td>\n",
       "    </tr>\n",
       "    <tr>\n",
       "      <th>min</th>\n",
       "      <td>4.400000</td>\n",
       "      <td>2.200000</td>\n",
       "      <td>1.200000</td>\n",
       "      <td>0.100000</td>\n",
       "    </tr>\n",
       "    <tr>\n",
       "      <th>25%</th>\n",
       "      <td>5.375000</td>\n",
       "      <td>2.800000</td>\n",
       "      <td>1.600000</td>\n",
       "      <td>0.400000</td>\n",
       "    </tr>\n",
       "    <tr>\n",
       "      <th>50%</th>\n",
       "      <td>5.800000</td>\n",
       "      <td>3.000000</td>\n",
       "      <td>4.250000</td>\n",
       "      <td>1.300000</td>\n",
       "    </tr>\n",
       "    <tr>\n",
       "      <th>75%</th>\n",
       "      <td>6.400000</td>\n",
       "      <td>3.400000</td>\n",
       "      <td>5.100000</td>\n",
       "      <td>1.800000</td>\n",
       "    </tr>\n",
       "    <tr>\n",
       "      <th>max</th>\n",
       "      <td>7.900000</td>\n",
       "      <td>4.400000</td>\n",
       "      <td>6.900000</td>\n",
       "      <td>2.500000</td>\n",
       "    </tr>\n",
       "  </tbody>\n",
       "</table>\n",
       "</div>"
      ],
      "text/plain": [
       "       sepal_length  sepal_width  petal_length  petal_width\n",
       "count     84.000000    84.000000     84.000000    84.000000\n",
       "mean       5.870238     3.075000      3.771429     1.203571\n",
       "std        0.769099     0.448256      1.734940     0.752577\n",
       "min        4.400000     2.200000      1.200000     0.100000\n",
       "25%        5.375000     2.800000      1.600000     0.400000\n",
       "50%        5.800000     3.000000      4.250000     1.300000\n",
       "75%        6.400000     3.400000      5.100000     1.800000\n",
       "max        7.900000     4.400000      6.900000     2.500000"
      ]
     },
     "execution_count": 41,
     "metadata": {},
     "output_type": "execute_result"
    }
   ],
   "source": [
    "train.describe()"
   ]
  },
  {
   "cell_type": "code",
   "execution_count": 40,
   "id": "96dab9e8",
   "metadata": {},
   "outputs": [
    {
     "data": {
      "text/plain": [
       "<matplotlib.lines.Line2D at 0x1562bd160>"
      ]
     },
     "execution_count": 40,
     "metadata": {},
     "output_type": "execute_result"
    },
    {
     "data": {
      "image/png": "[encoded data removed]",
      "text/plain": [
       "<Figure size 432x288 with 1 Axes>"
      ]
     },
     "metadata": {
      "needs_background": "light"
     },
     "output_type": "display_data"
    }
   ],
   "source": [
    "sns.barplot(x=\"species_name\", y=\"sepal_length\", data=train)\n",
    "mean_sepal_length = train.sepal_length.mean()\n",
    "plt.axhline(mean_sepal_length, color='red', linestyle='dotted')\n"
   ]
  },
  {
   "cell_type": "code",
   "execution_count": 45,
   "id": "1447c095",
   "metadata": {},
   "outputs": [
    {
     "data": {
      "text/plain": [
       "<matplotlib.lines.Line2D at 0x1564502e0>"
      ]
     },
     "execution_count": 45,
     "metadata": {},
     "output_type": "execute_result"
    },
    {
     "data": {
      "image/png": "[encoded data removed]",
      "text/plain": [
       "<Figure size 432x288 with 1 Axes>"
      ]
     },
     "metadata": {
      "needs_background": "light"
     },
     "output_type": "display_data"
    }
   ],
   "source": [
    "sns.barplot(x=\"species_name\", y=\"petal_length\", data=train)\n",
    "mean_sepal_width = train.petal_length.mean()\n",
    "plt.axhline(mean_sepal_width, color='red', linestyle='dotted')\n"
   ]
  },
  {
   "cell_type": "code",
   "execution_count": 46,
   "id": "31265b97",
   "metadata": {},
   "outputs": [
    {
     "data": {
      "text/plain": [
       "<matplotlib.lines.Line2D at 0x156495b80>"
      ]
     },
     "execution_count": 46,
     "metadata": {},
     "output_type": "execute_result"
    },
    {
     "data": {
      "image/png": "[encoded data removed]",
      "text/plain": [
       "<Figure size 432x288 with 1 Axes>"
      ]
     },
     "metadata": {
      "needs_background": "light"
     },
     "output_type": "display_data"
    }
   ],
   "source": [
    "sns.barplot(x=\"species_name\", y=\"sepal_width\", data=train)\n",
    "mean_sepal_width = train.sepal_width.mean()\n",
    "plt.axhline(mean_sepal_width, color='red', linestyle='dotted')"
   ]
  },
  {
   "cell_type": "code",
   "execution_count": 48,
   "id": "28717aca",
   "metadata": {},
   "outputs": [
    {
     "data": {
      "text/plain": [
       "<matplotlib.lines.Line2D at 0x155eaab50>"
      ]
     },
     "execution_count": 48,
     "metadata": {},
     "output_type": "execute_result"
    },
    {
     "data": {
      "image/png": "[encoded data removed]",
      "text/plain": [
       "<Figure size 432x288 with 1 Axes>"
      ]
     },
     "metadata": {
      "needs_background": "light"
     },
     "output_type": "display_data"
    }
   ],
   "source": [
    "sns.barplot(x=\"species_name\", y=\"petal_width\", data=train)\n",
    "mean_petal_width = train.petal_width.mean()\n",
    "plt.axhline(mean_petal_width, color='red', linestyle='dotted')"
   ]
  },
  {
   "cell_type": "code",
   "execution_count": 53,
   "id": "d751c754",
   "metadata": {},
   "outputs": [
    {
     "data": {
      "text/plain": [
       "count    28.000000\n",
       "mean      5.896429\n",
       "std       0.425556\n",
       "min       4.900000\n",
       "25%       5.600000\n",
       "50%       5.800000\n",
       "75%       6.125000\n",
       "max       6.900000\n",
       "Name: sepal_length, dtype: float64"
      ]
     },
     "execution_count": 53,
     "metadata": {},
     "output_type": "execute_result"
    }
   ],
   "source": [
    "pd.DataFrame(train[train.species_name == 'versicolor']).sepal_length.describe()"
   ]
  },
  {
   "cell_type": "code",
   "execution_count": 54,
   "id": "744b9ee0",
   "metadata": {},
   "outputs": [
    {
     "data": {
      "text/plain": [
       "count    28.000000\n",
       "mean      5.089286\n",
       "std       0.360390\n",
       "min       4.400000\n",
       "25%       4.875000\n",
       "50%       5.000000\n",
       "75%       5.400000\n",
       "max       5.800000\n",
       "Name: sepal_length, dtype: float64"
      ]
     },
     "execution_count": 54,
     "metadata": {},
     "output_type": "execute_result"
    }
   ],
   "source": [
    "pd.DataFrame(train[train.species_name == 'setosa']).sepal_length.describe()"
   ]
  },
  {
   "cell_type": "code",
   "execution_count": 55,
   "id": "cf9bfa87",
   "metadata": {},
   "outputs": [
    {
     "data": {
      "text/plain": [
       "count    28.000000\n",
       "mean      6.625000\n",
       "std       0.532378\n",
       "min       5.800000\n",
       "25%       6.300000\n",
       "50%       6.450000\n",
       "75%       6.900000\n",
       "max       7.900000\n",
       "Name: sepal_length, dtype: float64"
      ]
     },
     "execution_count": 55,
     "metadata": {},
     "output_type": "execute_result"
    }
   ],
   "source": [
    "pd.DataFrame(train[train.species_name == 'virginica']).sepal_length.describe()"
   ]
  },
  {
   "cell_type": "code",
   "execution_count": null,
   "id": "77b07d06",
   "metadata": {},
   "outputs": [],
   "source": []
  },
  {
   "cell_type": "code",
   "execution_count": null,
   "id": "fbb7fc9c",
   "metadata": {},
   "outputs": [],
   "source": []
  },
  {
   "cell_type": "code",
   "execution_count": null,
   "id": "16a4aca3",
   "metadata": {},
   "outputs": [],
   "source": []
  },
  {
   "cell_type": "code",
   "execution_count": null,
   "id": "f4e03a5e",
   "metadata": {},
   "outputs": [],
   "source": []
  },
  {
   "cell_type": "code",
   "execution_count": null,
   "id": "46435d89",
   "metadata": {},
   "outputs": [],
   "source": []
  },
  {
   "cell_type": "code",
   "execution_count": null,
   "id": "01d0dc03",
   "metadata": {},
   "outputs": [],
   "source": []
  },
  {
   "cell_type": "code",
   "execution_count": null,
   "id": "3e565b0a",
   "metadata": {},
   "outputs": [],
   "source": []
  },
  {
   "cell_type": "code",
   "execution_count": null,
   "id": "98f866f6",
   "metadata": {},
   "outputs": [],
   "source": []
  },
  {
   "cell_type": "code",
   "execution_count": null,
   "id": "e507415b",
   "metadata": {},
   "outputs": [],
   "source": []
  },
  {
   "cell_type": "code",
   "execution_count": null,
   "id": "b848a3bd",
   "metadata": {},
   "outputs": [],
   "source": []
  },
  {
   "cell_type": "code",
   "execution_count": null,
   "id": "c1079c0b",
   "metadata": {},
   "outputs": [],
   "source": []
  },
  {
   "cell_type": "code",
   "execution_count": null,
   "id": "8d33f6f6",
   "metadata": {},
   "outputs": [],
   "source": []
  },
  {
   "cell_type": "code",
   "execution_count": null,
   "id": "a9601de4",
   "metadata": {},
   "outputs": [],
   "source": []
  },
  {
   "cell_type": "code",
   "execution_count": null,
   "id": "3fe51a00",
   "metadata": {},
   "outputs": [],
   "source": []
  },
  {
   "cell_type": "code",
   "execution_count": null,
   "id": "87ab0dd0",
   "metadata": {},
   "outputs": [],
   "source": []
  }
 ],
 "metadata": {
  "kernelspec": {
   "display_name": "Python 3 (ipykernel)",
   "language": "python",
   "name": "python3"
  },
  "language_info": {
   "codemirror_mode": {
    "name": "ipython",
    "version": 3
   },
   "file_extension": ".py",
   "mimetype": "text/x-python",
   "name": "python",
   "nbconvert_exporter": "python",
   "pygments_lexer": "ipython3",
   "version": "3.9.12"
  }
 },
 "nbformat": 4,
 "nbformat_minor": 5
}
